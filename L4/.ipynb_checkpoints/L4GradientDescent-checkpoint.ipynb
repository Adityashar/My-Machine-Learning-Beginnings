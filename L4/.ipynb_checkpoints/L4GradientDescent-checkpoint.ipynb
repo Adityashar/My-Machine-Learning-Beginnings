{
 "cells": [
  {
   "cell_type": "code",
   "execution_count": 6,
   "metadata": {
    "collapsed": true
   },
   "outputs": [],
   "source": [
    "import numpy as np"
   ]
  },
  {
   "cell_type": "code",
   "execution_count": 39,
   "metadata": {},
   "outputs": [],
   "source": [
    "# calculate cost function\n",
    "def cost(x, y, m, b):\n",
    "    return ((y - m* x - b) ** 2).mean()"
   ]
  },
  {
   "cell_type": "code",
   "execution_count": 40,
   "metadata": {},
   "outputs": [],
   "source": [
    "# calculate gradients and update m & b values\n",
    "def step_gradient(x, y, learning_rate, m, b):\n",
    "    k = x.shape[0]\n",
    "    slope_m = 0\n",
    "    slope_b = 0\n",
    "    for i in range(k):\n",
    "        #for j in range(n):\n",
    "        slope_m = (2/k) * x[i] * (m * x[i] + b - y[i])\n",
    "        slope_b = (2/k) * (m * x[i] + b - y[i])\n",
    "        m = m - learning_rate * slope_m\n",
    "        b = b - learning_rate * slope_b\n",
    "    return new_m, new_b"
   ]
  },
  {
   "cell_type": "code",
   "execution_count": 41,
   "metadata": {},
   "outputs": [],
   "source": [
    "# running multiple iterations of step gradient\n",
    "def gradient_descent(x, y, learning_rate = 0.1, num_iter = 100, initial_m = 0, initial_b = 0):\n",
    "    m = initial_m\n",
    "    b = initial_b\n",
    "    print(\"Start : \", cost(x, y, m, b))\n",
    "    for i in range(num_iter):\n",
    "        m,b = step_gradient(x, y, learning_rate, m, b)\n",
    "        print(i, \" : \", cost(x, y, m, b), \"m = \", m , \" b = \", b)\n",
    "    return m, b"
   ]
  },
  {
   "cell_type": "code",
   "execution_count": 45,
   "metadata": {},
   "outputs": [],
   "source": [
    "# data loading & calling gradient descent\n",
    "def run():\n",
    "    points = np.loadtxt(open(\"data.csv\", \"rb\"), delimiter = \",\")\n",
    "    x = points[:, 0]\n",
    "    y = points[:, 1]\n",
    "    learning_rate = 0.0001\n",
    "    num_iter = 100\n",
    "    m,b = gradient_descent(x, y, learning_rate, num_iter)\n",
    "    return (m, b)"
   ]
  },
  {
   "cell_type": "code",
   "execution_count": 46,
   "metadata": {},
   "outputs": [
    {
     "name": "stdout",
     "output_type": "stream",
     "text": [
      "Start :  5565.10783448\n",
      "0  :  1484.58655741 m =  0.737070297359  b =  0.0145470101107\n",
      "1  :  457.854257574 m =  1.10679545435  b =  0.0218739629596\n",
      "2  :  199.509985726 m =  1.29225466491  b =  0.0255792243213\n",
      "3  :  134.505910582 m =  1.38528325565  b =  0.0274677895591\n",
      "4  :  118.149693422 m =  1.43194723238  b =  0.0284450719817\n",
      "5  :  114.03414906 m =  1.4553540089  b =  0.0289652407665\n",
      "6  :  112.998577317 m =  1.46709461772  b =  0.029256114126\n",
      "7  :  112.737981876 m =  1.47298329822  b =  0.0294319691638\n",
      "8  :  112.672384359 m =  1.4759365619  b =  0.0295501290244\n",
      "9  :  112.655851815 m =  1.47741737555  b =  0.0296393478747\n",
      "10  :  112.651664898 m =  1.47815958573  b =  0.0297140492452\n",
      "11  :  112.650584362 m =  1.47853130111  b =  0.0297814681995\n",
      "12  :  112.650285447 m =  1.47871717063  b =  0.0298452339563\n",
      "13  :  112.650183203 m =  1.47880981703  b =  0.0299071669873\n",
      "14  :  112.650130445 m =  1.47885570128  b =  0.0299681804689\n",
      "15  :  112.650090139 m =  1.47887812893  b =  0.0300287324645\n",
      "16  :  112.650052967 m =  1.47888879039  b =  0.0300890527455\n",
      "17  :  112.650016584 m =  1.47889354976  b =  0.0301492565689\n",
      "18  :  112.649980399 m =  1.47889534855  b =  0.0302094017495\n",
      "19  :  112.649944265 m =  1.47889566228  b =  0.0302695172878\n",
      "20  :  112.649908144 m =  1.47889523108  b =  0.0303296177311\n",
      "21  :  112.649872027 m =  1.47889442622  b =  0.0303897103765\n",
      "22  :  112.649835911 m =  1.47889343392  b =  0.0304497988843\n",
      "23  :  112.649799796 m =  1.47889234761  b =  0.0305098850906\n",
      "24  :  112.649763681 m =  1.47889121415  b =  0.0305699699165\n",
      "25  :  112.649727567 m =  1.47889005704  b =  0.0306300538238\n",
      "26  :  112.649691454 m =  1.47888888807  b =  0.0306901370445\n",
      "27  :  112.649655341 m =  1.47888771316  b =  0.0307502196946\n",
      "28  :  112.649619228 m =  1.47888653527  b =  0.0308103018326\n",
      "29  :  112.649583117 m =  1.47888535589  b =  0.0308703834876\n",
      "30  :  112.649547005 m =  1.47888417577  b =  0.0309304646744\n",
      "31  :  112.649510895 m =  1.47888299528  b =  0.0309905454003\n",
      "32  :  112.649474784 m =  1.47888181461  b =  0.031050625669\n",
      "33  :  112.649438675 m =  1.47888063386  b =  0.0311107054824\n",
      "34  :  112.649402566 m =  1.47887945306  b =  0.0311707848414\n",
      "35  :  112.649366457 m =  1.47887827226  b =  0.0312308637464\n",
      "36  :  112.649330349 m =  1.47887709144  b =  0.0312909421978\n",
      "37  :  112.649294242 m =  1.47887591064  b =  0.0313510201956\n",
      "38  :  112.649258135 m =  1.47887472983  b =  0.0314110977398\n",
      "39  :  112.649222028 m =  1.47887354904  b =  0.0314711748306\n",
      "40  :  112.649185922 m =  1.47887236825  b =  0.031531251468\n",
      "41  :  112.649149817 m =  1.47887118747  b =  0.0315913276518\n",
      "42  :  112.649113712 m =  1.4788700067  b =  0.0316514033823\n",
      "43  :  112.649077608 m =  1.47886882594  b =  0.0317114786593\n",
      "44  :  112.649041505 m =  1.47886764519  b =  0.0317715534828\n",
      "45  :  112.649005401 m =  1.47886646444  b =  0.031831627853\n",
      "46  :  112.648969299 m =  1.47886528371  b =  0.0318917017697\n",
      "47  :  112.648933197 m =  1.47886410298  b =  0.0319517752329\n",
      "48  :  112.648897095 m =  1.47886292227  b =  0.0320118482428\n",
      "49  :  112.648860994 m =  1.47886174156  b =  0.0320719207993\n",
      "50  :  112.648824894 m =  1.47886056086  b =  0.0321319929023\n",
      "51  :  112.648788794 m =  1.47885938017  b =  0.0321920645519\n",
      "52  :  112.648752695 m =  1.47885819949  b =  0.0322521357481\n",
      "53  :  112.648716596 m =  1.47885701882  b =  0.032312206491\n",
      "54  :  112.648680498 m =  1.47885583815  b =  0.0323722767804\n",
      "55  :  112.6486444 m =  1.4788546575  b =  0.0324323466164\n",
      "56  :  112.648608303 m =  1.47885347685  b =  0.032492415999\n",
      "57  :  112.648572207 m =  1.47885229622  b =  0.0325524849283\n",
      "58  :  112.648536111 m =  1.47885111559  b =  0.0326125534042\n",
      "59  :  112.648500015 m =  1.47884993497  b =  0.0326726214266\n",
      "60  :  112.64846392 m =  1.47884875436  b =  0.0327326889957\n",
      "61  :  112.648427826 m =  1.47884757376  b =  0.0327927561115\n",
      "62  :  112.648391732 m =  1.47884639317  b =  0.0328528227738\n",
      "63  :  112.648355639 m =  1.47884521259  b =  0.0329128889828\n",
      "64  :  112.648319546 m =  1.47884403201  b =  0.0329729547384\n",
      "65  :  112.648283454 m =  1.47884285145  b =  0.0330330200407\n",
      "66  :  112.648247362 m =  1.47884167089  b =  0.0330930848896\n",
      "67  :  112.648211271 m =  1.47884049034  b =  0.0331531492852\n",
      "68  :  112.64817518 m =  1.4788393098  b =  0.0332132132274\n",
      "69  :  112.64813909 m =  1.47883812928  b =  0.0332732767162\n",
      "70  :  112.648103001 m =  1.47883694875  b =  0.0333333397517\n",
      "71  :  112.648066912 m =  1.47883576824  b =  0.0333934023339\n",
      "72  :  112.648030824 m =  1.47883458774  b =  0.0334534644627\n",
      "73  :  112.647994736 m =  1.47883340725  b =  0.0335135261382\n",
      "74  :  112.647958648 m =  1.47883222676  b =  0.0335735873604\n",
      "75  :  112.647922562 m =  1.47883104628  b =  0.0336336481292\n",
      "76  :  112.647886475 m =  1.47882986582  b =  0.0336937084447\n",
      "77  :  112.64785039 m =  1.47882868536  b =  0.0337537683069\n",
      "78  :  112.647814305 m =  1.47882750491  b =  0.0338138277158\n",
      "79  :  112.64777822 m =  1.47882632447  b =  0.0338738866714\n",
      "80  :  112.647742136 m =  1.47882514404  b =  0.0339339451737\n",
      "81  :  112.647706053 m =  1.47882396362  b =  0.0339940032226\n",
      "82  :  112.64766997 m =  1.4788227832  b =  0.0340540608183\n",
      "83  :  112.647633887 m =  1.4788216028  b =  0.0341141179606\n",
      "84  :  112.647597805 m =  1.4788204224  b =  0.0341741746497\n",
      "85  :  112.647561724 m =  1.47881924201  b =  0.0342342308854\n",
      "86  :  112.647525643 m =  1.47881806164  b =  0.0342942866679\n",
      "87  :  112.647489563 m =  1.47881688127  b =  0.0343543419971\n",
      "88  :  112.647453483 m =  1.47881570091  b =  0.034414396873\n",
      "89  :  112.647417404 m =  1.47881452055  b =  0.0344744512956\n",
      "90  :  112.647381326 m =  1.47881334021  b =  0.034534505265\n",
      "91  :  112.647345248 m =  1.47881215988  b =  0.0345945587811\n",
      "92  :  112.64730917 m =  1.47881097955  b =  0.0346546118439\n",
      "93  :  112.647273093 m =  1.47880979924  b =  0.0347146644534\n",
      "94  :  112.647237017 m =  1.47880861893  b =  0.0347747166097\n",
      "95  :  112.647200941 m =  1.47880743863  b =  0.0348347683127\n",
      "96  :  112.647164866 m =  1.47880625834  b =  0.0348948195625\n",
      "97  :  112.647128791 m =  1.47880507806  b =  0.034954870359\n",
      "98  :  112.647092717 m =  1.47880389779  b =  0.0350149207023\n",
      "99  :  112.647056643 m =  1.47880271753  b =  0.0350749705923\n"
     ]
    }
   ],
   "source": [
    "m, b = run()"
   ]
  },
  {
   "cell_type": "code",
   "execution_count": 47,
   "metadata": {},
   "outputs": [],
   "source": [
    "import matplotlib.pyplot as plt"
   ]
  },
  {
   "cell_type": "code",
   "execution_count": 51,
   "metadata": {},
   "outputs": [
    {
     "data": {
      "image/png": "[encoded data removed]",
      "text/plain": [
       "<Figure size 432x288 with 1 Axes>"
      ]
     },
     "metadata": {},
     "output_type": "display_data"
    }
   ],
   "source": [
    "points = np.loadtxt(open(\"data.csv\", \"rb\"), delimiter = \",\")\n",
    "x = points[:, 0]\n",
    "y = points[:, 1]\n",
    "plt.scatter(x, y)\n",
    "y_p = m * x + b\n",
    "plt.scatter(x, y_p)\n",
    "plt.show()"
   ]
  }
 ],
 "metadata": {
  "kernelspec": {
   "display_name": "Python 3",
   "language": "python",
   "name": "python3"
  },
  "language_info": {
   "codemirror_mode": {
    "name": "ipython",
    "version": 3
   },
   "file_extension": ".py",
   "mimetype": "text/x-python",
   "name": "python",
   "nbconvert_exporter": "python",
   "pygments_lexer": "ipython3",
   "version": "3.6.5"
  }
 },
 "nbformat": 4,
 "nbformat_minor": 1
}
