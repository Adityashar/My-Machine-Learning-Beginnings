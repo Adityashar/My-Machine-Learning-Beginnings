{
 "cells": [
  {
   "cell_type": "code",
   "execution_count": 1,
   "metadata": {},
   "outputs": [],
   "source": [
    "import numpy as np"
   ]
  },
  {
   "cell_type": "code",
   "execution_count": 2,
   "metadata": {},
   "outputs": [
    {
     "data": {
      "text/plain": [
       "0.002668353203826379"
      ]
     },
     "execution_count": 2,
     "metadata": {},
     "output_type": "execute_result"
    }
   ],
   "source": [
    "np.random.random()/10"
   ]
  },
  {
   "cell_type": "code",
   "execution_count": 3,
   "metadata": {},
   "outputs": [],
   "source": [
    "# 2*x^2 + 3*x - 5\n",
    "def actual_y(x):\n",
    "    random_val = np.random.random(x.shape) * 1000 - 500\n",
    "    return 2 * (x**2) + 3 * x -5 + random_val"
   ]
  },
  {
   "cell_type": "code",
   "execution_count": 4,
   "metadata": {},
   "outputs": [
    {
     "data": {
      "text/plain": [
       "array([[ 5.06157431e+03],\n",
       "       [ 5.01331804e+03],\n",
       "       [ 4.33521136e+03],\n",
       "       [ 4.15784442e+03],\n",
       "       [ 4.56013727e+03],\n",
       "       [ 3.73888851e+03],\n",
       "       [ 3.87999541e+03],\n",
       "       [ 3.18772836e+03],\n",
       "       [ 3.11838885e+03],\n",
       "       [ 3.18296522e+03],\n",
       "       [ 3.28578305e+03],\n",
       "       [ 3.40000552e+03],\n",
       "       [ 3.22117213e+03],\n",
       "       [ 2.51230993e+03],\n",
       "       [ 2.73768218e+03],\n",
       "       [ 2.83531546e+03],\n",
       "       [ 2.36774439e+03],\n",
       "       [ 1.86382341e+03],\n",
       "       [ 1.97156570e+03],\n",
       "       [ 1.70334315e+03],\n",
       "       [ 1.98532170e+03],\n",
       "       [ 1.55779377e+03],\n",
       "       [ 1.01967457e+03],\n",
       "       [ 1.63470982e+03],\n",
       "       [ 1.55128518e+03],\n",
       "       [ 1.60969199e+03],\n",
       "       [ 6.81592956e+02],\n",
       "       [ 1.24755569e+03],\n",
       "       [ 8.40792122e+02],\n",
       "       [ 1.10899037e+03],\n",
       "       [ 4.95711728e+02],\n",
       "       [ 1.15859262e+03],\n",
       "       [ 4.74892416e+02],\n",
       "       [ 9.49579361e+02],\n",
       "       [ 2.94914042e+00],\n",
       "       [ 1.98454027e+02],\n",
       "       [-1.24017545e+02],\n",
       "       [ 1.84872412e+02],\n",
       "       [ 5.62647105e+02],\n",
       "       [ 3.99787398e+02],\n",
       "       [-1.01731494e+02],\n",
       "       [ 2.57119247e+02],\n",
       "       [-1.53728829e+02],\n",
       "       [-4.14515054e+02],\n",
       "       [-1.52189248e+02],\n",
       "       [ 2.42461831e+02],\n",
       "       [ 2.27300877e+02],\n",
       "       [ 4.23801819e+02],\n",
       "       [-8.43844060e+01],\n",
       "       [ 2.09053497e+01],\n",
       "       [-3.98666739e+02],\n",
       "       [-6.27344428e+01],\n",
       "       [-2.58528139e+01],\n",
       "       [-8.66412486e+01],\n",
       "       [ 1.40416588e+02],\n",
       "       [ 2.94414690e+02],\n",
       "       [ 3.68824874e+02],\n",
       "       [ 1.64151047e+02],\n",
       "       [ 2.32037771e+02],\n",
       "       [ 2.67518441e+02],\n",
       "       [ 4.41995293e+02],\n",
       "       [ 4.49855695e+02],\n",
       "       [-4.76041741e+01],\n",
       "       [ 4.81799515e+02],\n",
       "       [-6.80252349e+01],\n",
       "       [ 9.02985980e+01],\n",
       "       [ 5.92403852e+02],\n",
       "       [ 1.54799525e+02],\n",
       "       [ 6.41978959e+02],\n",
       "       [ 1.10692140e+03],\n",
       "       [ 6.28725831e+02],\n",
       "       [ 1.20343482e+03],\n",
       "       [ 1.07334956e+03],\n",
       "       [ 1.45970612e+03],\n",
       "       [ 8.48058886e+02],\n",
       "       [ 8.76377628e+02],\n",
       "       [ 1.61442719e+03],\n",
       "       [ 1.15145406e+03],\n",
       "       [ 1.28018949e+03],\n",
       "       [ 1.32926325e+03],\n",
       "       [ 2.31465470e+03],\n",
       "       [ 2.31714712e+03],\n",
       "       [ 2.57431760e+03],\n",
       "       [ 2.12012405e+03],\n",
       "       [ 2.83063476e+03],\n",
       "       [ 2.08140033e+03],\n",
       "       [ 2.34254102e+03],\n",
       "       [ 2.95249514e+03],\n",
       "       [ 2.63825442e+03],\n",
       "       [ 3.54443300e+03],\n",
       "       [ 3.21179652e+03],\n",
       "       [ 3.29273146e+03],\n",
       "       [ 3.37328637e+03],\n",
       "       [ 3.91773636e+03],\n",
       "       [ 3.71223684e+03],\n",
       "       [ 4.64394284e+03],\n",
       "       [ 4.26233141e+03],\n",
       "       [ 4.63591131e+03],\n",
       "       [ 4.53668197e+03],\n",
       "       [ 4.99873067e+03]])"
      ]
     },
     "execution_count": 4,
     "metadata": {},
     "output_type": "execute_result"
    }
   ],
   "source": [
    "x = np.array([[i] for i in range(-50, 50, 1)])\n",
    "y = actual_y(x)\n",
    "y"
   ]
  },
  {
   "cell_type": "code",
   "execution_count": 5,
   "metadata": {},
   "outputs": [
    {
     "data": {
      "text/plain": [
       "(100, 1)"
      ]
     },
     "execution_count": 5,
     "metadata": {},
     "output_type": "execute_result"
    }
   ],
   "source": [
    "x.shape"
   ]
  },
  {
   "cell_type": "code",
   "execution_count": 67,
   "metadata": {
    "collapsed": true
   },
   "outputs": [],
   "source": [
    "from sklearn.linear_model import LinearRegression"
   ]
  },
  {
   "cell_type": "code",
   "execution_count": 68,
   "metadata": {},
   "outputs": [],
   "source": [
    "clf = LinearRegression()\n",
    "clf.fit(x, y)\n",
    "y_pred_1 = clf.predict(x)"
   ]
  },
  {
   "cell_type": "code",
   "execution_count": 69,
   "metadata": {},
   "outputs": [
    {
     "data": {
      "text/plain": [
       "(array([[ 4.26878274,  1.95724303]]), array([ 36.85173147]))"
      ]
     },
     "execution_count": 69,
     "metadata": {},
     "output_type": "execute_result"
    }
   ],
   "source": [
    "x_new = np.c_[x, x**2]\n",
    "clf2 = LinearRegression()\n",
    "clf2.fit(x_new, y)\n",
    "y_pred_2 = clf2.predict(x_new)\n",
    "clf2.coef_, clf2.intercept_"
   ]
  },
  {
   "cell_type": "code",
   "execution_count": 70,
   "metadata": {
    "collapsed": true
   },
   "outputs": [],
   "source": [
    "from matplotlib import pyplot as plt"
   ]
  },
  {
   "cell_type": "code",
   "execution_count": 71,
   "metadata": {},
   "outputs": [
    {
     "data": {
      "image/png": "[encoded data removed]",
      "text/plain": [
       "<Figure size 432x288 with 1 Axes>"
      ]
     },
     "metadata": {},
     "output_type": "display_data"
    }
   ],
   "source": [
    "plt.scatter(x, y, Color = 'b')\n",
    "plt.scatter(x, y_pred_1, Color = 'r')\n",
    "plt.scatter(x, y_pred_2, Color = 'g')\n",
    "plt.show()"
   ]
  }
 ],
 "metadata": {
  "kernelspec": {
   "display_name": "Python 3",
   "language": "python",
   "name": "python3"
  },
  "language_info": {
   "codemirror_mode": {
    "name": "ipython",
    "version": 3
   },
   "file_extension": ".py",
   "mimetype": "text/x-python",
   "name": "python",
   "nbconvert_exporter": "python",
   "pygments_lexer": "ipython3",
   "version": "3.6.6"
  }
 },
 "nbformat": 4,
 "nbformat_minor": 1
}
