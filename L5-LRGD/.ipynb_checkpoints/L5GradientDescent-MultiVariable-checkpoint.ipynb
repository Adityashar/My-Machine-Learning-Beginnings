{
 "cells": [
  {
   "cell_type": "code",
   "execution_count": 1,
   "metadata": {},
   "outputs": [],
   "source": [
    "import numpy as np"
   ]
  },
  {
   "cell_type": "code",
   "execution_count": 2,
   "metadata": {},
   "outputs": [],
   "source": [
    "# calculate cost function\n",
    "def cost(x, y, m):\n",
    "    return ((y - np.dot(x, m)) ** 2).mean()"
   ]
  },
  {
   "cell_type": "code",
   "execution_count": 3,
   "metadata": {},
   "outputs": [],
   "source": [
    "# calculate gradients and update m & b values\n",
    "def step_gradient(x, y, learning_rate, m):\n",
    "    k = x.shape[0]\n",
    "    n = x.shape[1]\n",
    "    slope_m = np.zeros((n, 1))\n",
    "    \n",
    "    for j in range(n):\n",
    "        for i in range(k):\n",
    "            y_pred_i = np.dot(x[i], m)[0]\n",
    "            y_i = y[i][0]\n",
    "            slope_m[j][0] += (2/k)*x[i][j]*(y_pred_i - y_i)\n",
    "        #slope_m += (2/k) * x[i] * (m * x[i] + b - y[i])\n",
    "        \n",
    "    new_m = m - learning_rate * slope_m\n",
    "    return new_m"
   ]
  },
  {
   "cell_type": "code",
   "execution_count": 4,
   "metadata": {},
   "outputs": [],
   "source": [
    "# running multiple iterations of step gradient\n",
    "def gradient_descent(x, y, learning_rate = 0.1, num_iter = 100):\n",
    "    m = np.zeros((x.shape[1], 1))\n",
    "    print(\"Start : \", cost(x, y, m))\n",
    "    for i in range(num_iter):\n",
    "        m = step_gradient(x, y, learning_rate, m)\n",
    "    \n",
    "    print(\"End : \", cost(x, y, m))\n",
    "    return m"
   ]
  },
  {
   "cell_type": "code",
   "execution_count": 5,
   "metadata": {},
   "outputs": [],
   "source": [
    "from sklearn import datasets"
   ]
  },
  {
   "cell_type": "code",
   "execution_count": 6,
   "metadata": {},
   "outputs": [
    {
     "data": {
      "text/plain": [
       "((506, 13), (506,))"
      ]
     },
     "execution_count": 6,
     "metadata": {},
     "output_type": "execute_result"
    }
   ],
   "source": [
    "boston = datasets.load_boston()\n",
    "boston.data.shape, boston.target.shape"
   ]
  },
  {
   "cell_type": "code",
   "execution_count": 7,
   "metadata": {},
   "outputs": [
    {
     "data": {
      "text/plain": [
       "821934.9900218465"
      ]
     },
     "execution_count": 7,
     "metadata": {},
     "output_type": "execute_result"
    }
   ],
   "source": [
    "x = boston.data\n",
    "y = boston.target.reshape((x.shape[0], 1))\n",
    "m = np.ones((x.shape[1], 1))\n",
    "pred = np.dot(x, m)\n",
    "((pred - y) ** 2).mean()"
   ]
  },
  {
   "cell_type": "code",
   "execution_count": 8,
   "metadata": {},
   "outputs": [
    {
     "data": {
      "text/plain": [
       "(13,)"
      ]
     },
     "execution_count": 8,
     "metadata": {},
     "output_type": "execute_result"
    }
   ],
   "source": [
    "x[2].shape"
   ]
  },
  {
   "cell_type": "code",
   "execution_count": 9,
   "metadata": {},
   "outputs": [
    {
     "data": {
      "text/plain": [
       "array([739.47839])"
      ]
     },
     "execution_count": 9,
     "metadata": {},
     "output_type": "execute_result"
    }
   ],
   "source": [
    "np.dot(x[2], m)"
   ]
  },
  {
   "cell_type": "code",
   "execution_count": 10,
   "metadata": {},
   "outputs": [
    {
     "data": {
      "text/plain": [
       "(810.89932, array([24.]))"
      ]
     },
     "execution_count": 10,
     "metadata": {},
     "output_type": "execute_result"
    }
   ],
   "source": [
    "pred[0][0], y[0]"
   ]
  },
  {
   "cell_type": "code",
   "execution_count": 18,
   "metadata": {},
   "outputs": [],
   "source": [
    "# data loading & calling gradient descent\n",
    "def run(x, y):\n",
    "    learning_rate = 0.000002\n",
    "    num_iter = 1000\n",
    "    m = gradient_descent(x, y, learning_rate, num_iter)\n",
    "    return m"
   ]
  },
  {
   "cell_type": "code",
   "execution_count": 12,
   "metadata": {},
   "outputs": [
    {
     "name": "stdout",
     "output_type": "stream",
     "text": [
      "Start :  592.1469169960474\n",
      "End :  68.99873131223181\n"
     ]
    }
   ],
   "source": [
    "x = boston.data\n",
    "y = boston.target.reshape((x.shape[0], 1))\n",
    "m = run(x, y)"
   ]
  },
  {
   "cell_type": "code",
   "execution_count": 13,
   "metadata": {},
   "outputs": [],
   "source": [
    "from sklearn.linear_model import LinearRegression"
   ]
  },
  {
   "cell_type": "code",
   "execution_count": 14,
   "metadata": {},
   "outputs": [
    {
     "data": {
      "text/plain": [
       "LinearRegression(copy_X=True, fit_intercept=False, n_jobs=1, normalize=False)"
      ]
     },
     "execution_count": 14,
     "metadata": {},
     "output_type": "execute_result"
    }
   ],
   "source": [
    "clf = LinearRegression(fit_intercept = False)\n",
    "clf.fit(x, y)"
   ]
  },
  {
   "cell_type": "code",
   "execution_count": 15,
   "metadata": {},
   "outputs": [
    {
     "data": {
      "text/plain": [
       "(array([[-9.16297843e-02,  4.86751203e-02, -3.77930006e-03,\n",
       "          2.85636751e+00, -2.88077933e+00,  5.92521432e+00,\n",
       "         -7.22447929e-03, -9.67995240e-01,  1.70443393e-01,\n",
       "         -9.38925373e-03, -3.92425680e-01,  1.49832102e-02,\n",
       "         -4.16972624e-01]]), array([[-0.03154138],\n",
       "        [ 0.10756257],\n",
       "        [-0.01978152],\n",
       "        [ 0.00158459],\n",
       "        [ 0.00087885],\n",
       "        [ 0.0306094 ],\n",
       "        [ 0.03127558],\n",
       "        [ 0.00825422],\n",
       "        [-0.00124651],\n",
       "        [ 0.00104373],\n",
       "        [ 0.02086918],\n",
       "        [ 0.05317401],\n",
       "        [-0.08458927]]))"
      ]
     },
     "execution_count": 15,
     "metadata": {},
     "output_type": "execute_result"
    }
   ],
   "source": [
    "clf.coef_, m"
   ]
  },
  {
   "cell_type": "code",
   "execution_count": 16,
   "metadata": {},
   "outputs": [
    {
     "data": {
      "text/plain": [
       "array([[29.10255504],\n",
       "       [24.50656965],\n",
       "       [31.2317794 ],\n",
       "       [29.71046643],\n",
       "       [29.56672407],\n",
       "       [25.29781053],\n",
       "       [21.53145517],\n",
       "       [19.10111623],\n",
       "       [11.0850584 ],\n",
       "       [18.25808349]])"
      ]
     },
     "execution_count": 16,
     "metadata": {},
     "output_type": "execute_result"
    }
   ],
   "source": [
    "clf.predict(x)[0:10]"
   ]
  },
  {
   "cell_type": "code",
   "execution_count": 86,
   "metadata": {},
   "outputs": [
    {
     "data": {
      "text/plain": [
       "array([[ 25.47539528],\n",
       "       [ 23.51806108],\n",
       "       [ 23.20057501],\n",
       "       [ 23.00651229],\n",
       "       [ 23.19116763],\n",
       "       [ 23.17352416],\n",
       "       [ 24.11917549],\n",
       "       [ 24.54883342],\n",
       "       [ 23.19526183],\n",
       "       [ 23.86073694]])"
      ]
     },
     "execution_count": 86,
     "metadata": {},
     "output_type": "execute_result"
    }
   ],
   "source": [
    "np.dot(x, m)[0:10]"
   ]
  }
 ],
 "metadata": {
  "anaconda-cloud": {},
  "kernelspec": {
   "display_name": "Python 3",
   "language": "python",
   "name": "python3"
  },
  "language_info": {
   "codemirror_mode": {
    "name": "ipython",
    "version": 3
   },
   "file_extension": ".py",
   "mimetype": "text/x-python",
   "name": "python",
   "nbconvert_exporter": "python",
   "pygments_lexer": "ipython3",
   "version": "3.6.5"
  }
 },
 "nbformat": 4,
 "nbformat_minor": 1
}
