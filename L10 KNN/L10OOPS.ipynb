{
 "cells": [
  {
   "cell_type": "code",
   "execution_count": 74,
   "metadata": {},
   "outputs": [],
   "source": [
    "class KNN:\n",
    "    \n",
    "    def __init__(self, k = 3):\n",
    "        self.k = k\n",
    "    \n",
    "    def fit(self, x_train, y_train):\n",
    "        self.x_train = x_train\n",
    "        self.y_train = y_train\n",
    "        \n",
    "    def score(self, x_test, y_test):\n",
    "        y_pred = self.predict(x_test)\n",
    "        return (y_pred == y_test).sum()/len(y_test)\n",
    "        \n",
    "    def predictHelper(self, x):\n",
    "        distances = ((self.x_train - x)**2).sum(axis = 1)\n",
    "        distance_index = []\n",
    "        for i in range(len(distances)):\n",
    "            distance_index.append([distances[i], i])\n",
    "        distance_index.sort()\n",
    "        distance_index = distance_index[0:self.k]\n",
    "        \n",
    "        votes = []\n",
    "        for d, i in distance_index:\n",
    "            votes.append(self.y_train[i])\n",
    "        return Counter(votes).most_common(1)[0][0]\n",
    "    \n",
    "    def predict(self, x_test):\n",
    "        output = []\n",
    "        for x in x_test:\n",
    "            prediction = self.predictHelper(x)\n",
    "            output.append(prediction)\n",
    "        return output"
   ]
  },
  {
   "cell_type": "code",
   "execution_count": 53,
   "metadata": {
    "collapsed": true
   },
   "outputs": [],
   "source": [
    "from sklearn import datasets\n",
    "from sklearn.model_selection import train_test_split"
   ]
  },
  {
   "cell_type": "code",
   "execution_count": 55,
   "metadata": {
    "collapsed": true
   },
   "outputs": [],
   "source": [
    "iris = datasets.load_iris()\n",
    "x_train, x_test, y_train, y_test = train_test_split(iris.data, iris.target, random_state = 1)"
   ]
  },
  {
   "cell_type": "code",
   "execution_count": 64,
   "metadata": {},
   "outputs": [
    {
     "data": {
      "text/plain": [
       "numpy.ndarray"
      ]
     },
     "execution_count": 64,
     "metadata": {},
     "output_type": "execute_result"
    }
   ],
   "source": [
    "type(x_train)"
   ]
  },
  {
   "cell_type": "code",
   "execution_count": 75,
   "metadata": {
    "collapsed": true
   },
   "outputs": [],
   "source": [
    "clf = KNN()\n",
    "clf.fit(x_train, y_train)"
   ]
  },
  {
   "cell_type": "code",
   "execution_count": 78,
   "metadata": {},
   "outputs": [
    {
     "data": {
      "text/plain": [
       "array([ True,  True,  True,  True,  True,  True,  True,  True,  True,\n",
       "        True,  True,  True,  True,  True,  True,  True,  True,  True,\n",
       "        True,  True,  True,  True,  True,  True,  True,  True,  True,\n",
       "        True,  True,  True,  True,  True,  True,  True,  True,  True,\n",
       "        True,  True], dtype=bool)"
      ]
     },
     "execution_count": 78,
     "metadata": {},
     "output_type": "execute_result"
    }
   ],
   "source": [
    "clf.predict(x_test) == y_test"
   ]
  },
  {
   "cell_type": "code",
   "execution_count": null,
   "metadata": {
    "collapsed": true
   },
   "outputs": [],
   "source": []
  },
  {
   "cell_type": "code",
   "execution_count": 46,
   "metadata": {},
   "outputs": [],
   "source": [
    "import numpy as np\n",
    "from collections import Counter\n",
    "x_train = np.array([[1,2],[3,4], [5, 6], [7, 8]])\n",
    "x_test = np.array([[10,2],[7,4]])\n",
    "y_train = np.array([0,1, 0, 1])"
   ]
  },
  {
   "cell_type": "code",
   "execution_count": 52,
   "metadata": {},
   "outputs": [
    {
     "data": {
      "text/plain": [
       "1"
      ]
     },
     "execution_count": 52,
     "metadata": {},
     "output_type": "execute_result"
    }
   ],
   "source": [
    "x = x_test[0]\n",
    "k = 3\n",
    "distances = ((x_train - x)**2).sum(axis = 1)\n",
    "distance_index = []\n",
    "for i in range(len(distances)):\n",
    "    distance_index.append([distances[i], i])\n",
    "distance_index.sort()\n",
    "distance_index = distance_index[0:k]\n",
    "votes = []\n",
    "for d, i in distance_index:\n",
    "    votes.append(y_train[i])\n",
    "Counter(votes).most_common(1)[0][0]"
   ]
  },
  {
   "cell_type": "code",
   "execution_count": 16,
   "metadata": {},
   "outputs": [
    {
     "name": "stdout",
     "output_type": "stream",
     "text": [
      "1\n"
     ]
    }
   ],
   "source": [
    "a = KNN(k = 5)\n",
    "a.fit(1, 2)\n",
    "a.predict(4)"
   ]
  }
 ],
 "metadata": {
  "kernelspec": {
   "display_name": "Python 3",
   "language": "python",
   "name": "python3"
  },
  "language_info": {
   "codemirror_mode": {
    "name": "ipython",
    "version": 3
   },
   "file_extension": ".py",
   "mimetype": "text/x-python",
   "name": "python",
   "nbconvert_exporter": "python",
   "pygments_lexer": "ipython3",
   "version": "3.6.6"
  }
 },
 "nbformat": 4,
 "nbformat_minor": 1
}
