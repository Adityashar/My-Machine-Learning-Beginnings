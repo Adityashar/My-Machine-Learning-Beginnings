{
 "cells": [
  {
   "cell_type": "code",
   "execution_count": 1,
   "metadata": {},
   "outputs": [],
   "source": [
    "import math as m"
   ]
  },
  {
   "cell_type": "code",
   "execution_count": 2,
   "metadata": {},
   "outputs": [
    {
     "data": {
      "text/plain": [
       "3.1622776601683795"
      ]
     },
     "execution_count": 2,
     "metadata": {},
     "output_type": "execute_result"
    }
   ],
   "source": [
    "m.sqrt(10)"
   ]
  },
  {
   "cell_type": "code",
   "execution_count": 3,
   "metadata": {},
   "outputs": [],
   "source": [
    "import numpy as np                 #importing the numpy library"
   ]
  },
  {
   "cell_type": "code",
   "execution_count": 4,
   "metadata": {},
   "outputs": [
    {
     "data": {
      "text/plain": [
       "array(['1', '2', 'shs'], dtype='<U11')"
      ]
     },
     "execution_count": 4,
     "metadata": {},
     "output_type": "execute_result"
    }
   ],
   "source": [
    "a = [1,2,\"shs\"]                    #A python List\n",
    "b = np.array(a)                    #Forming a numpy ndarray from a python list\n",
    "b                                  #printing the ndarray"
   ]
  },
  {
   "cell_type": "code",
   "execution_count": 25,
   "metadata": {},
   "outputs": [
    {
     "data": {
      "text/plain": [
       "(array([ 1,  2, 23]), dtype('float64'), array([1., 1., 1.]), array([1, 2, 3]))"
      ]
     },
     "execution_count": 25,
     "metadata": {},
     "output_type": "execute_result"
    }
   ],
   "source": [
    "a = [1,2,'23']\n",
    "b = np.array(a, dtype='int32')                      #Here we have specified the datatype of the ndarray\n",
    "c = np.zeros(10)                                    #An ndarray composed of a ten zeros i.e - {0, 0, 0, 0...0}\n",
    "d = np.ones(3)                                      #An ndarray composed of three ones i.e - {1, 1, 1}\n",
    "e = np.arange(1, 4, 1)                              #An ndarray formed by arrangement of numbers where start = 1, end = 4 *NOTE - 4 is not included and size of array is 3* \n",
    "b, c.dtype, d, e"
   ]
  },
  {
   "cell_type": "markdown",
   "metadata": {},
   "source": [
    "In the following cell, we've used math library predefined functions - sum, mean on our ndarray b defined above -"
   ]
  },
  {
   "cell_type": "code",
   "execution_count": 26,
   "metadata": {},
   "outputs": [
    {
     "data": {
      "text/plain": [
       "(26, 8.666666666666666, (3,))"
      ]
     },
     "execution_count": 26,
     "metadata": {},
     "output_type": "execute_result"
    }
   ],
   "source": [
    "b.sum(), b.mean(), b.shape        "
   ]
  },
  {
   "cell_type": "code",
   "execution_count": 27,
   "metadata": {},
   "outputs": [
    {
     "data": {
      "text/plain": [
       "3"
      ]
     },
     "execution_count": 27,
     "metadata": {},
     "output_type": "execute_result"
    }
   ],
   "source": [
    "b.size               #size of ndarray"
   ]
  },
  {
   "cell_type": "markdown",
   "metadata": {},
   "source": [
    "In Python, for taking exponents of a value we use the operator ** , eg - 2 ** 10 = 1024"
   ]
  },
  {
   "cell_type": "markdown",
   "metadata": {},
   "source": [
    "We can call ndarrays as Vectors as well. Now in the following cell - the expression b ** 2 results in the squaring of each element of the ndarray. "
   ]
  },
  {
   "cell_type": "code",
   "execution_count": 28,
   "metadata": {},
   "outputs": [
    {
     "data": {
      "text/plain": [
       "array([  1,   4, 529], dtype=int32)"
      ]
     },
     "execution_count": 28,
     "metadata": {},
     "output_type": "execute_result"
    }
   ],
   "source": [
    "b  ** 2"
   ]
  },
  {
   "cell_type": "code",
   "execution_count": 29,
   "metadata": {},
   "outputs": [
    {
     "data": {
      "text/plain": [
       "array([ 2,  4, 26])"
      ]
     },
     "execution_count": 29,
     "metadata": {},
     "output_type": "execute_result"
    }
   ],
   "source": [
    "b +  e"
   ]
  },
  {
   "cell_type": "code",
   "execution_count": 39,
   "metadata": {},
   "outputs": [
    {
     "name": "stdout",
     "output_type": "stream",
     "text": [
      "[1 2 3 4 5 6]\n",
      "[[1 2 3]\n",
      " [4 5 6]]\n",
      "Sum of rows: [ 6 15]\n",
      "Sum of columns: [5 7 9]\n",
      "Sum of all elements: 21\n"
     ]
    }
   ],
   "source": [
    "a1d = np.array([1,2,3,4,5,6])\n",
    "a2d = a1d.reshape((2,3))\n",
    "print(a1d)\n",
    "print(a2d)\n",
    "print(\"Sum of rows:\",a2d.sum(axis=1))\n",
    "print(\"Sum of columns:\",a2d.sum(axis = 0))\n",
    "print(\"Sum of all elements:\",a2d.sum())"
   ]
  },
  {
   "cell_type": "code",
   "execution_count": 17,
   "metadata": {},
   "outputs": [
    {
     "data": {
      "text/plain": [
       "array([[0., 0., 0., 0., 0.],\n",
       "       [0., 0., 0., 0., 0.],\n",
       "       [0., 0., 0., 0., 0.],\n",
       "       [0., 0., 0., 0., 0.]])"
      ]
     },
     "execution_count": 17,
     "metadata": {},
     "output_type": "execute_result"
    }
   ],
   "source": [
    "np.zeros((4, 5))"
   ]
  },
  {
   "cell_type": "code",
   "execution_count": 54,
   "metadata": {},
   "outputs": [
    {
     "name": "stdout",
     "output_type": "stream",
     "text": [
      "[[ 1  3  5  7  9]\n",
      " [11 13 15 17 19]\n",
      " [21 23 25 27 29]\n",
      " [31 33 35 37 39]]\n",
      "15 \n",
      "\n",
      "[31 33 35 37 39] \n",
      "\n",
      "[[21 23 25 27 29]\n",
      " [31 33 35 37 39]] \n",
      "\n",
      "[15 17]\n"
     ]
    }
   ],
   "source": [
    "a = np.arange(1, 40, 2)\n",
    "a = a.reshape((4, 5))\n",
    "print(a)\n",
    "print(a[1][2], \"\\n\")\n",
    "print(a[3], \"\\n\")\n",
    "print(a[2:4], \"\\n\")\n",
    "print(a[1, 2 : 4])"
   ]
  },
  {
   "cell_type": "code",
   "execution_count": 55,
   "metadata": {},
   "outputs": [
    {
     "name": "stdout",
     "output_type": "stream",
     "text": [
      "[9 9 9]\n",
      "27\n",
      "0.6666666666666666\n"
     ]
    }
   ],
   "source": [
    "a = np.array([1,2,3])\n",
    "b = np.array([4,5,6])\n",
    "print(((a - b) ** 2))\n",
    "print(((a - b) ** 2).sum())\n",
    "print(((a - a.mean()) ** 2).mean())"
   ]
  },
  {
   "cell_type": "code",
   "execution_count": 58,
   "metadata": {},
   "outputs": [
    {
     "data": {
      "text/plain": [
       "array([2., 5.])"
      ]
     },
     "execution_count": 58,
     "metadata": {},
     "output_type": "execute_result"
    }
   ],
   "source": [
    "a2d.mean(axis = 1) "
   ]
  },
  {
   "cell_type": "code",
   "execution_count": null,
   "metadata": {},
   "outputs": [],
   "source": []
  }
 ],
 "metadata": {
  "anaconda-cloud": {},
  "kernelspec": {
   "display_name": "Python 3",
   "language": "python",
   "name": "python3"
  }
 },
 "nbformat": 4,
 "nbformat_minor": 1
}
